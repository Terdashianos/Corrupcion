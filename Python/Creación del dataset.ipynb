{
 "cells": [
  {
   "cell_type": "markdown",
   "id": "176735b5",
   "metadata": {},
   "source": [
    "# Datatón Anticurrupción 2021"
   ]
  },
  {
   "cell_type": "code",
   "execution_count": null,
   "id": "6cfcbc92",
   "metadata": {},
   "outputs": [],
   "source": [
    "###Instalar módulos necesarios\n",
    "!pip install sklearn\n",
    "!pip install pandas\n",
    "!pip install matplotlib\n",
    "!pip install seaborn"
   ]
  },
  {
   "cell_type": "markdown",
   "id": "df2f1eed",
   "metadata": {},
   "source": [
    "### Carga de archivos  Json"
   ]
  },
  {
   "cell_type": "code",
   "execution_count": 2,
   "id": "997c93f1",
   "metadata": {},
   "outputs": [],
   "source": [
    "import json\n",
    "import pandas as pd\n",
    "import numpy as np\n",
    "import matplotlib.pyplot as plt\n",
    "from sklearn.cluster import KMeans\n",
    "from sklearn.decomposition import PCA\n",
    "\n",
    "%matplotlib inline\n",
    "pd.set_option('display.max_columns', None)"
   ]
  },
  {
   "cell_type": "code",
   "execution_count": 3,
   "id": "5207073e",
   "metadata": {},
   "outputs": [],
   "source": [
    "with open('declaraciones.json', encoding=\"utf8\") as file:\n",
    "    data1 = json.load(file)\n",
    "declaraciones = pd.json_normalize(data1)\n",
    "declaraciones.to_csv(\"declaraciones.csv\")"
   ]
  },
  {
   "cell_type": "code",
   "execution_count": 9,
   "id": "47fdf164",
   "metadata": {},
   "outputs": [],
   "source": [
    "with open('Sistema3Servidores.json', encoding=\"utf8\") as file:\n",
    "    data2 = json.load(file)\n",
    "sanciones = pd.json_normalize(data2)\n",
    "sanciones.to_csv(\"sanciones.csv\")"
   ]
  },
  {
   "cell_type": "code",
   "execution_count": 10,
   "id": "955a56a3",
   "metadata": {},
   "outputs": [],
   "source": [
    "with open('SistemaS2.json', encoding=\"utf8\") as file:\n",
    "    data3 = json.load(file)\n",
    "contratos = pd.json_normalize(data3)\n",
    "contratos.to_csv(\"contratos.csv\")"
   ]
  },
  {
   "cell_type": "markdown",
   "id": "e6d6924e",
   "metadata": {},
   "source": [
    "### Tratamiento de la base con funcionarios sancionados"
   ]
  },
  {
   "cell_type": "code",
   "execution_count": 11,
   "id": "ecd6a988",
   "metadata": {},
   "outputs": [],
   "source": [
    "sanciones['sancion'] = sanciones['tipoSancion'].apply(lambda x: ','.join(map(str, x)))\n",
    "sanciones['sancion'] = sanciones['sancion'].map({\"{'clave': 'SE', 'valor': 'SANCIÓN ECONÓMICA', 'descripcion': ''}\":'SANCIÓN ECONÓMICA',\n",
    "                                                 \"{'clave': 'IRSC', 'valor': 'INDEMNIZACIÓN RESARCITORIA', 'descripcion': ''}\":'INDEMNIZACIÓN RESARCITORIA',\n",
    "                                                 \"{'clave': 'I', 'valor': 'INHABILITADO', 'descripcion': ''}\":'INHABILITADO',\n",
    "                                                 \"{'clave': 'M', 'valor': 'MULTADO', 'descripcion': ''}\":\"MULTADO\",\n",
    "                                                 \"{'clave': 'O', 'valor': 'OTRO', 'descripcion': 'LEVANTAMIENTO DE ACTA ADMINISTRATIVA'}\":\"ACTA ADMINISTRATIVA\",\n",
    "                                                 \"{'clave': 'S', 'valor': 'SUSPENSION DE EMPLEO, CARGO O COMISION', 'descripcion': ''}\":\"SUSPENSION\",\n",
    "                                                 \"{'clave': 'D', 'valor': 'DESTITUCION DEL EMPLEO CARGO O COMISION', 'descripcion': 'DESPIDO'}\":\"DESTITUCION\",\n",
    "                                                 \"{'clave': 'S', 'valor': 'SUSPENSIÓN DEL EMPLEO, CARGO O COMISIÓN'}\":\"SUSPENSIÓN\"\n",
    "                                                })"
   ]
  },
  {
   "cell_type": "code",
   "execution_count": 12,
   "id": "e3586eb0",
   "metadata": {},
   "outputs": [],
   "source": [
    "sanciones=sanciones[[\"expediente\", \"autoridadSancionadora\", \"sancion\", \"causaMotivoHechos\", \"institucionDependencia.nombre\",\n",
    "                     \"servidorPublicoSancionado.curp\", \"servidorPublicoSancionado.genero.valor\", \n",
    "                     \"servidorPublicoSancionado.puesto\", \"tipoFalta.valor\", \"multa.monto\", \n",
    "                     \"inhabilitacion.plazo\"\n",
    "                    ]]"
   ]
  },
  {
   "cell_type": "code",
   "execution_count": 13,
   "id": "8e4d0312",
   "metadata": {},
   "outputs": [],
   "source": [
    "sanciones.rename(columns={'servidorPublicoSancionado.curp': 'curp'}, inplace=True)\n",
    "sanciones.rename(columns={'causaMotivoHechos': 'causa'}, inplace=True)\n",
    "sanciones.rename(columns={'institucionDependencia.nombre': 'dependencia'}, inplace=True)\n",
    "sanciones.rename(columns={'servidorPublicoSancionado.genero.valor': 'genero'}, inplace=True)\n",
    "sanciones.rename(columns={'servidorPublicoSancionado.puesto': 'puesto'}, inplace=True)\n",
    "sanciones.rename(columns={'tipoFalta.valor': 'falta'}, inplace=True)\n",
    "sanciones.rename(columns={'multa.monto': 'multa'}, inplace=True)\n",
    "sanciones.rename(columns={'inhabilitacion.plazo': 'inhabilitacion'}, inplace=True)"
   ]
  },
  {
   "cell_type": "code",
   "execution_count": 14,
   "id": "155f54d8",
   "metadata": {},
   "outputs": [],
   "source": [
    "sanciones.to_csv(\"sanciones_clear.csv\")"
   ]
  },
  {
   "cell_type": "markdown",
   "id": "6a77dc3b",
   "metadata": {},
   "source": [
    "### Guardamos CSV especiales para multas e inahilitaciones"
   ]
  },
  {
   "cell_type": "code",
   "execution_count": 15,
   "id": "2722f744",
   "metadata": {},
   "outputs": [],
   "source": [
    "sanciones_multas = sanciones.dropna(subset=[\"multa\"])\n",
    "sanciones_multas.to_csv(\"sanciones_multas.csv\")"
   ]
  },
  {
   "cell_type": "code",
   "execution_count": 16,
   "id": "0e316cfd",
   "metadata": {},
   "outputs": [],
   "source": [
    "sanciones_inhabilitacion = sanciones.dropna(subset=[\"inhabilitacion\"])\n",
    "sanciones_inhabilitacion.to_csv(\"sanciones_inhabilitacion.csv\")"
   ]
  },
  {
   "cell_type": "markdown",
   "id": "b601bb77",
   "metadata": {},
   "source": [
    "### Tratamiento de la base con declaraciones"
   ]
  },
  {
   "cell_type": "code",
   "execution_count": 17,
   "id": "be340381",
   "metadata": {},
   "outputs": [],
   "source": [
    "declaraciones2 = declaraciones[[\"metadata.institucion\", \"metadata.declaracionCompleta\", \n",
    "                                \"declaracion.situacionPatrimonial.datosGenerales.curp\", \n",
    "                                \"declaracion.situacionPatrimonial.datosCurricularesDeclarante.escolaridad\",\n",
    "                               \"declaracion.situacionPatrimonial.experienciaLaboral.experiencia\",\n",
    "                               \"declaracion.situacionPatrimonial.ingresos.ingresoAnualNetoDeclarante.valor\",\n",
    "                               \"declaracion.situacionPatrimonial.ingresos.ingresoAnualNetoDeclarante.moneda\"]]"
   ]
  },
  {
   "cell_type": "code",
   "execution_count": 18,
   "id": "7dafe9f0",
   "metadata": {},
   "outputs": [
    {
     "name": "stderr",
     "output_type": "stream",
     "text": [
      "C:\\Users\\syste\\anaconda3\\envs\\Dataton\\lib\\site-packages\\pandas\\core\\frame.py:5039: SettingWithCopyWarning: \n",
      "A value is trying to be set on a copy of a slice from a DataFrame\n",
      "\n",
      "See the caveats in the documentation: https://pandas.pydata.org/pandas-docs/stable/user_guide/indexing.html#returning-a-view-versus-a-copy\n",
      "  return super().rename(\n"
     ]
    }
   ],
   "source": [
    "declaraciones2.rename(columns={'metadata.institucion': 'institucion'}, inplace=True)\n",
    "declaraciones2.rename(columns={'metadata.declaracionCompleta': 'completa'}, inplace=True)\n",
    "declaraciones2.rename(columns={'declaracion.situacionPatrimonial.datosGenerales.curp': 'curp'}, inplace=True)\n",
    "declaraciones2.rename(columns={'declaracion.situacionPatrimonial.datosCurricularesDeclarante.escolaridad': 'escolaridad'}, inplace=True)\n",
    "declaraciones2.rename(columns={'declaracion.situacionPatrimonial.experienciaLaboral.experiencia': 'experiencia'}, inplace=True)\n",
    "declaraciones2.rename(columns={'declaracion.situacionPatrimonial.ingresos.ingresoAnualNetoDeclarante.valor': 'ingreso'}, inplace=True)\n",
    "declaraciones2.rename(columns={'declaracion.situacionPatrimonial.ingresos.ingresoAnualNetoDeclarante.moneda': 'moneda'}, inplace=True)"
   ]
  },
  {
   "cell_type": "code",
   "execution_count": 19,
   "id": "aa460c57",
   "metadata": {},
   "outputs": [],
   "source": [
    "df_merged = pd.merge(sanciones, \n",
    "                     declaraciones2,\n",
    "                     on=['curp'])"
   ]
  },
  {
   "cell_type": "code",
   "execution_count": 20,
   "id": "d45350df",
   "metadata": {},
   "outputs": [],
   "source": [
    "df_merged.to_csv(\"clusters.csv\")"
   ]
  },
  {
   "cell_type": "markdown",
   "id": "d2bc2572",
   "metadata": {},
   "source": [
    "![cat](https://lh3.googleusercontent.com/proxy/r0NaCbk-E3YHSbtdEKDy9wUM_PL5Gwoou3kk2Ym0ciY6MWiZNwbZnV1DR-5MLHprhQOp-2y5fAd20VDTKXO9zhzFYLknMjF12Ugz92TB7ECbURs5O4tokJvDNZPt_7oHcaVpGwALyg)"
   ]
  },
  {
   "cell_type": "code",
   "execution_count": null,
   "id": "f1d21899",
   "metadata": {},
   "outputs": [],
   "source": []
  }
 ],
 "metadata": {
  "kernelspec": {
   "display_name": "Python 3 (ipykernel)",
   "language": "python",
   "name": "python3"
  },
  "language_info": {
   "codemirror_mode": {
    "name": "ipython",
    "version": 3
   },
   "file_extension": ".py",
   "mimetype": "text/x-python",
   "name": "python",
   "nbconvert_exporter": "python",
   "pygments_lexer": "ipython3",
   "version": "3.9.7"
  }
 },
 "nbformat": 4,
 "nbformat_minor": 5
}
